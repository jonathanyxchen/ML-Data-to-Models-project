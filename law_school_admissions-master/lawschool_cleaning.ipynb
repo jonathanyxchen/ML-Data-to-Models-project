{
 "cells": [
  {
   "cell_type": "markdown",
   "metadata": {},
   "source": [
    "# Law School Admissions Data - Cleaning"
   ]
  },
  {
   "cell_type": "markdown",
   "metadata": {},
   "source": [
    "Code to clean self-reported law school admissions data from Law School Numbers."
   ]
  },
  {
   "cell_type": "code",
   "execution_count": 61,
   "metadata": {},
   "outputs": [
    {
     "name": "stderr",
     "output_type": "stream",
     "text": [
      "/usr/local/lib/python3.7/site-packages/ipykernel_launcher.py:2: FutureWarning: Passing a negative integer is deprecated in version 1.0 and will not be supported in future version. Instead, use None to not limit the column width.\n",
      "  \n"
     ]
    },
    {
     "data": {
      "text/html": [
       "<style>.container { width:100% !important; }</style>"
      ],
      "text/plain": [
       "<IPython.core.display.HTML object>"
      ]
     },
     "metadata": {},
     "output_type": "display_data"
    }
   ],
   "source": [
    "import pandas as pd\n",
    "pd.set_option('display.max_colwidth', -1)\n",
    "pd.set_option('display.max_rows', 500)\n",
    "pd.set_option('display.max_columns', 500)\n",
    "pd.set_option('display.width', 1000)\n",
    "\n",
    "import re\n",
    "import numpy as np\n",
    "from collections import ChainMap\n",
    "\n",
    "from IPython.core.display import display, HTML\n",
    "display(HTML(\"<style>.container { width:100% !important; }</style>\"))"
   ]
  },
  {
   "cell_type": "markdown",
   "metadata": {},
   "source": [
    "### Import raw data"
   ]
  },
  {
   "cell_type": "code",
   "execution_count": 62,
   "metadata": {},
   "outputs": [
    {
     "name": "stderr",
     "output_type": "stream",
     "text": [
      "/usr/local/lib/python3.7/site-packages/IPython/core/interactiveshell.py:3058: DtypeWarning: Columns (23) have mixed types.Specify dtype option on import or set low_memory=False.\n",
      "  interactivity=interactivity, compiler=compiler, result=result)\n"
     ]
    },
    {
     "data": {
      "text/html": [
       "<div>\n",
       "<style scoped>\n",
       "    .dataframe tbody tr th:only-of-type {\n",
       "        vertical-align: middle;\n",
       "    }\n",
       "\n",
       "    .dataframe tbody tr th {\n",
       "        vertical-align: top;\n",
       "    }\n",
       "\n",
       "    .dataframe thead th {\n",
       "        text-align: right;\n",
       "    }\n",
       "</style>\n",
       "<table border=\"1\" class=\"dataframe\">\n",
       "  <thead>\n",
       "    <tr style=\"text-align: right;\">\n",
       "      <th></th>\n",
       "      <th>application_id</th>\n",
       "      <th>school</th>\n",
       "      <th>status</th>\n",
       "      <th>sentmonth</th>\n",
       "      <th>decisionmonth</th>\n",
       "      <th>app_id</th>\n",
       "      <th>sent</th>\n",
       "      <th>decision</th>\n",
       "      <th>url</th>\n",
       "      <th>money</th>\n",
       "      <th>lsat</th>\n",
       "      <th>gpa</th>\n",
       "      <th>urm</th>\n",
       "      <th>ed</th>\n",
       "      <th>feewaiver</th>\n",
       "      <th>complete_ts</th>\n",
       "      <th>decision_ts</th>\n",
       "      <th>aa</th>\n",
       "      <th>attending</th>\n",
       "      <th>cycle</th>\n",
       "      <th>state</th>\n",
       "      <th>race</th>\n",
       "      <th>sex</th>\n",
       "      <th>yearsout</th>\n",
       "      <th>schooltype</th>\n",
       "      <th>major</th>\n",
       "      <th>nontrad</th>\n",
       "      <th>international</th>\n",
       "      <th>lgbt</th>\n",
       "      <th>tfa</th>\n",
       "      <th>military</th>\n",
       "      <th>lsat1</th>\n",
       "      <th>lsat2</th>\n",
       "      <th>lsat3</th>\n",
       "    </tr>\n",
       "  </thead>\n",
       "  <tbody>\n",
       "    <tr>\n",
       "      <th>0</th>\n",
       "      <td>2185601</td>\n",
       "      <td>gulc</td>\n",
       "      <td>Ac</td>\n",
       "      <td>11</td>\n",
       "      <td>12</td>\n",
       "      <td>187539</td>\n",
       "      <td>11/07/05</td>\n",
       "      <td>12/01/05</td>\n",
       "      <td>http://lawschoolnumbers.com/5</td>\n",
       "      <td>0</td>\n",
       "      <td>173</td>\n",
       "      <td>3.74</td>\n",
       "      <td>0</td>\n",
       "      <td>0</td>\n",
       "      <td>0</td>\n",
       "      <td>1131944400</td>\n",
       "      <td>1133413200</td>\n",
       "      <td>0</td>\n",
       "      <td>0</td>\n",
       "      <td>506</td>\n",
       "      <td>New York</td>\n",
       "      <td>NaN</td>\n",
       "      <td>Female</td>\n",
       "      <td>NaN</td>\n",
       "      <td>NaN</td>\n",
       "      <td>NaN</td>\n",
       "      <td>0</td>\n",
       "      <td>0</td>\n",
       "      <td>0</td>\n",
       "      <td>0</td>\n",
       "      <td>0</td>\n",
       "      <td>173.0</td>\n",
       "      <td>0</td>\n",
       "      <td>0</td>\n",
       "    </tr>\n",
       "    <tr>\n",
       "      <th>1</th>\n",
       "      <td>2185600</td>\n",
       "      <td>uva</td>\n",
       "      <td>Ac</td>\n",
       "      <td>10</td>\n",
       "      <td>12</td>\n",
       "      <td>187539</td>\n",
       "      <td>10/12/05</td>\n",
       "      <td>12/07/05</td>\n",
       "      <td>http://lawschoolnumbers.com/5</td>\n",
       "      <td>0</td>\n",
       "      <td>173</td>\n",
       "      <td>3.74</td>\n",
       "      <td>0</td>\n",
       "      <td>0</td>\n",
       "      <td>0</td>\n",
       "      <td>1130734800</td>\n",
       "      <td>1133931600</td>\n",
       "      <td>0</td>\n",
       "      <td>0</td>\n",
       "      <td>506</td>\n",
       "      <td>New York</td>\n",
       "      <td>NaN</td>\n",
       "      <td>Female</td>\n",
       "      <td>NaN</td>\n",
       "      <td>NaN</td>\n",
       "      <td>NaN</td>\n",
       "      <td>0</td>\n",
       "      <td>0</td>\n",
       "      <td>0</td>\n",
       "      <td>0</td>\n",
       "      <td>0</td>\n",
       "      <td>173.0</td>\n",
       "      <td>0</td>\n",
       "      <td>0</td>\n",
       "    </tr>\n",
       "    <tr>\n",
       "      <th>2</th>\n",
       "      <td>2185599</td>\n",
       "      <td>penn</td>\n",
       "      <td>Ac</td>\n",
       "      <td>11</td>\n",
       "      <td>12</td>\n",
       "      <td>187539</td>\n",
       "      <td>11/01/05</td>\n",
       "      <td>12/16/05</td>\n",
       "      <td>http://lawschoolnumbers.com/5</td>\n",
       "      <td>0</td>\n",
       "      <td>173</td>\n",
       "      <td>3.74</td>\n",
       "      <td>0</td>\n",
       "      <td>0</td>\n",
       "      <td>0</td>\n",
       "      <td>1131944400</td>\n",
       "      <td>1134709200</td>\n",
       "      <td>0</td>\n",
       "      <td>0</td>\n",
       "      <td>506</td>\n",
       "      <td>New York</td>\n",
       "      <td>NaN</td>\n",
       "      <td>Female</td>\n",
       "      <td>NaN</td>\n",
       "      <td>NaN</td>\n",
       "      <td>NaN</td>\n",
       "      <td>0</td>\n",
       "      <td>0</td>\n",
       "      <td>0</td>\n",
       "      <td>0</td>\n",
       "      <td>0</td>\n",
       "      <td>173.0</td>\n",
       "      <td>0</td>\n",
       "      <td>0</td>\n",
       "    </tr>\n",
       "    <tr>\n",
       "      <th>3</th>\n",
       "      <td>2185598</td>\n",
       "      <td>nyu</td>\n",
       "      <td>Ac</td>\n",
       "      <td>10</td>\n",
       "      <td>0</td>\n",
       "      <td>187539</td>\n",
       "      <td>10/12/05</td>\n",
       "      <td>--</td>\n",
       "      <td>http://lawschoolnumbers.com/5</td>\n",
       "      <td>0</td>\n",
       "      <td>173</td>\n",
       "      <td>3.74</td>\n",
       "      <td>0</td>\n",
       "      <td>0</td>\n",
       "      <td>0</td>\n",
       "      <td>1130734800</td>\n",
       "      <td>0</td>\n",
       "      <td>0</td>\n",
       "      <td>0</td>\n",
       "      <td>506</td>\n",
       "      <td>New York</td>\n",
       "      <td>NaN</td>\n",
       "      <td>Female</td>\n",
       "      <td>NaN</td>\n",
       "      <td>NaN</td>\n",
       "      <td>NaN</td>\n",
       "      <td>0</td>\n",
       "      <td>0</td>\n",
       "      <td>0</td>\n",
       "      <td>0</td>\n",
       "      <td>0</td>\n",
       "      <td>173.0</td>\n",
       "      <td>0</td>\n",
       "      <td>0</td>\n",
       "    </tr>\n",
       "    <tr>\n",
       "      <th>4</th>\n",
       "      <td>2185597</td>\n",
       "      <td>chicago</td>\n",
       "      <td>Ac</td>\n",
       "      <td>11</td>\n",
       "      <td>2</td>\n",
       "      <td>187539</td>\n",
       "      <td>11/08/05</td>\n",
       "      <td>02/23/06</td>\n",
       "      <td>http://lawschoolnumbers.com/5</td>\n",
       "      <td>0</td>\n",
       "      <td>173</td>\n",
       "      <td>3.74</td>\n",
       "      <td>0</td>\n",
       "      <td>0</td>\n",
       "      <td>0</td>\n",
       "      <td>1133413200</td>\n",
       "      <td>1140670800</td>\n",
       "      <td>0</td>\n",
       "      <td>0</td>\n",
       "      <td>506</td>\n",
       "      <td>New York</td>\n",
       "      <td>NaN</td>\n",
       "      <td>Female</td>\n",
       "      <td>NaN</td>\n",
       "      <td>NaN</td>\n",
       "      <td>NaN</td>\n",
       "      <td>0</td>\n",
       "      <td>0</td>\n",
       "      <td>0</td>\n",
       "      <td>0</td>\n",
       "      <td>0</td>\n",
       "      <td>173.0</td>\n",
       "      <td>0</td>\n",
       "      <td>0</td>\n",
       "    </tr>\n",
       "  </tbody>\n",
       "</table>\n",
       "</div>"
      ],
      "text/plain": [
       "   application_id   school status  sentmonth  decisionmonth  app_id      sent  decision                            url  money  lsat   gpa  urm  ed  feewaiver  complete_ts  decision_ts  aa  attending  cycle     state race     sex yearsout schooltype major  nontrad  international  lgbt  tfa  military  lsat1  lsat2  lsat3\n",
       "0  2185601         gulc     Ac     11         12             187539  11/07/05  12/01/05  http://lawschoolnumbers.com/5  0      173   3.74  0    0   0          1131944400   1133413200   0   0          506    New York  NaN  Female  NaN      NaN        NaN   0        0              0     0    0         173.0  0      0    \n",
       "1  2185600         uva      Ac     10         12             187539  10/12/05  12/07/05  http://lawschoolnumbers.com/5  0      173   3.74  0    0   0          1130734800   1133931600   0   0          506    New York  NaN  Female  NaN      NaN        NaN   0        0              0     0    0         173.0  0      0    \n",
       "2  2185599         penn     Ac     11         12             187539  11/01/05  12/16/05  http://lawschoolnumbers.com/5  0      173   3.74  0    0   0          1131944400   1134709200   0   0          506    New York  NaN  Female  NaN      NaN        NaN   0        0              0     0    0         173.0  0      0    \n",
       "3  2185598         nyu      Ac     10         0              187539  10/12/05  --        http://lawschoolnumbers.com/5  0      173   3.74  0    0   0          1130734800   0            0   0          506    New York  NaN  Female  NaN      NaN        NaN   0        0              0     0    0         173.0  0      0    \n",
       "4  2185597         chicago  Ac     11         2              187539  11/08/05  02/23/06  http://lawschoolnumbers.com/5  0      173   3.74  0    0   0          1133413200   1140670800   0   0          506    New York  NaN  Female  NaN      NaN        NaN   0        0              0     0    0         173.0  0      0    "
      ]
     },
     "execution_count": 62,
     "metadata": {},
     "output_type": "execute_result"
    }
   ],
   "source": [
    "df_law = pd.read_csv(r'mylsn_raw.csv')\n",
    "df_law.head()"
   ]
  },
  {
   "cell_type": "code",
   "execution_count": 63,
   "metadata": {},
   "outputs": [
    {
     "data": {
      "text/plain": [
       "47683"
      ]
     },
     "execution_count": 63,
     "metadata": {},
     "output_type": "execute_result"
    }
   ],
   "source": [
    "len(set(df_law['app_id']))"
   ]
  },
  {
   "cell_type": "markdown",
   "metadata": {},
   "source": [
    "### Clean categorical data"
   ]
  },
  {
   "cell_type": "code",
   "execution_count": 64,
   "metadata": {},
   "outputs": [
    {
     "data": {
      "text/plain": [
       "race\n",
       "White                   93505\n",
       "Caucasian               30652\n",
       "white                   25526\n",
       "Asian                   12332\n",
       "Hispanic                9131 \n",
       "                        ...  \n",
       "Meat                    1    \n",
       "egyptians               1    \n",
       "female/african ameri    1    \n",
       "nurm                    1    \n",
       "East Indian/Male        1    \n",
       "Name: race, Length: 1806, dtype: int64"
      ]
     },
     "execution_count": 64,
     "metadata": {},
     "output_type": "execute_result"
    }
   ],
   "source": [
    "# What races are listed?\n",
    "df_law.groupby('race')['race'].count().sort_values(ascending=False)"
   ]
  },
  {
   "cell_type": "code",
   "execution_count": 65,
   "metadata": {},
   "outputs": [],
   "source": [
    "# Create a list with all the race options\n",
    "list_race = list(df_law['race'].unique())\n",
    "\n",
    "# Create a list for each race. Note that each list is mutually exclusive to prevent overlap between lists.\n",
    "tag_black = list(set([m.group() for l in list_race for m in [re.search(r'.*lack.*|.frican(-)?(\\s)?.merican|AA|aa|.*fro.*|BLK|BLACK|.*frican.*|.*FRICA.*', str(l))] if m]))\n",
    "list_black = list(set([x for x in list_race if x in tag_black]))\n",
    "\n",
    "list_not_black = [x for x in list_race if x not in list_black]\n",
    "tag_hispanic = list(set([m.group() for l in list_not_black for m in [re.search(r'.*ispanic.*|.*atin.*|mex.*|Mex.*|.*uerto.*|.*hican.*', str(l))] if m]))\n",
    "list_hispanic = list(set([x for x in list_not_black if x in tag_hispanic]))\n",
    "\n",
    "list_not_black_hispanic = [x for x in list_race if x not in list_black + list_hispanic]\n",
    "tag_asian = list(set([m.group() for l in list_not_black_hispanic for m in [re.search(r'Asian|asian|asian.*|.*outh .*sia.*|india.*|India.*|East|east|.*ilipin.*|.*hinese|.*orea.*', str(l))] if m]))\n",
    "list_asian = list(set([x for x in list_not_black_hispanic if x in tag_asian]))\n",
    "\n",
    "list_not_black_hispanic_asian = [x for x in list_race if x not in list_black + list_hispanic + list_asian]\n",
    "tag_white = list(set([m.group() for l in list_not_black_hispanic_asian for m in [re.search(r'\\Dhite\\s?.*|w|W|.auc(\\D)*', str(l))] if m]))\n",
    "list_white = list(set([x for x in list_not_black_hispanic_asian if x in tag_white]))\n",
    "\n",
    "list_other = [x for x in list_race if x not in list_black + list_hispanic + list_asian + list_white]"
   ]
  },
  {
   "cell_type": "code",
   "execution_count": 66,
   "metadata": {},
   "outputs": [],
   "source": [
    "# Create dict_race and map it over df_law['race']. This will consolidate our race data into 5 categories.\n",
    "dict_black = {x:'black' for x in list_black}\n",
    "dict_hispanic = {x:'hispanic' for x in list_hispanic}\n",
    "dict_asian = {x:'asian' for x in list_asian}\n",
    "dict_white = {x:'white' for x in list_white}\n",
    "dict_other = {x: 'other' for x in list_other}\n",
    "\n",
    "dict_race = {**dict_black, **dict_hispanic, **dict_asian, **dict_white, **dict_other}\n",
    "df_law['race'] = df_law['race'].map(dict_race)"
   ]
  },
  {
   "cell_type": "code",
   "execution_count": 67,
   "metadata": {},
   "outputs": [],
   "source": [
    "# There's a separate 'urm' (underrepresented minority) column.\n",
    "# For any applicant where 'urm' is positive and 'race' is listed as 'white' or 'other', adjust 'race' to 'other_urm'.\n",
    "\n",
    "df_law['race'] = df_law.apply(lambda x: x['race'].replace('other', 'other_urm') if x['urm'] == 1 else x['race'], axis=1)\n",
    "df_law['race'] = df_law.apply(lambda x: x['race'].replace('white', 'other_urm') if x['urm'] == 1 else x['race'], axis=1)"
   ]
  },
  {
   "cell_type": "code",
   "execution_count": 68,
   "metadata": {},
   "outputs": [
    {
     "data": {
      "text/plain": [
       "race\n",
       "other        201040\n",
       "white        169216\n",
       "other_urm    23580 \n",
       "hispanic     22518 \n",
       "black        21954 \n",
       "asian        17043 \n",
       "Name: race, dtype: int64"
      ]
     },
     "execution_count": 68,
     "metadata": {},
     "output_type": "execute_result"
    }
   ],
   "source": [
    "# Which races are listed now?\n",
    "df_law.groupby('race')['race'].count().sort_values(ascending=False)"
   ]
  },
  {
   "cell_type": "code",
   "execution_count": 69,
   "metadata": {},
   "outputs": [
    {
     "data": {
      "text/plain": [
       "yearsout\n",
       "1-2 years    86056\n",
       "10+ years    5806 \n",
       "3-4 years    38489\n",
       "5-9 years    22876\n",
       "undergrad    85864\n",
       "Name: yearsout, dtype: int64"
      ]
     },
     "execution_count": 69,
     "metadata": {},
     "output_type": "execute_result"
    }
   ],
   "source": [
    "# Consolidate 'yearsout'\n",
    "dict_yearsout = {\n",
    "    '1-2 Years': '1-2 years',\n",
    "    'In Undergrad': 'undergrad',\n",
    "    'in undergrad': 'undergrad',\n",
    "    '3-4 Years': '3-4 years',\n",
    "    '5-9 Years': '5-9 years',\n",
    "    '10+ Years': '10+ years',\n",
    "    'nan': 'unspecified'\n",
    "}\n",
    "\n",
    "df_law['yearsout'] = df_law['yearsout'].map(dict_yearsout)\n",
    "df_law.groupby('yearsout')['yearsout'].count()"
   ]
  },
  {
   "cell_type": "code",
   "execution_count": 70,
   "metadata": {},
   "outputs": [],
   "source": [
    "# Most schools look ok, but these should be consolidated\n",
    "df_law['school'] = df_law['school'].apply(lambda x: x.replace('arkansas-fayetteville', 'arkansas'))\n",
    "df_law['school'] = df_law['school'].apply(lambda x: x.replace('rutgers-camden', 'rutgers'))\n",
    "df_law['school'] = df_law['school'].apply(lambda x: x.replace('rutgers-newark', 'rutgers'))"
   ]
  },
  {
   "cell_type": "code",
   "execution_count": 71,
   "metadata": {},
   "outputs": [],
   "source": [
    "# Consolidate sexes\n",
    "df_law['sex'] = df_law['sex'].apply(lambda x: str(x).replace('Female', 'female'))\n",
    "df_law['sex'] = df_law['sex'].apply(lambda x: str(x).replace('Male', 'male'))\n",
    "df_law['sex'] = df_law['sex'].apply(lambda x: str(x).replace('nan', 'unspecified'))"
   ]
  },
  {
   "cell_type": "code",
   "execution_count": 72,
   "metadata": {},
   "outputs": [],
   "source": [
    "# Create a list with all the school type options\n",
    "list_schooltype = list(df_law['schooltype'].unique())\n",
    "\n",
    "# Create a list for each schooltype\n",
    "tag_ivy = list(set([m.group() for l in list_schooltype for m in [re.search(r'.vy.*|.VY|HYP.*|hyp.*|Columbia.*|Yale.*|Harvard.*|Penn|Cornell.*|Brown.*|Dartmouth.*|Princeton.*', str(l))] if m]))\n",
    "list_ivy = list(set([x for x in list_schooltype if x in tag_ivy]))\n",
    "\n",
    "list_not_ivy = [x for x in list_schooltype if x not in list_ivy]\n",
    "tag_liberal = list(set([m.group() for l in list_not_ivy for m in [re.search(r'.*iberal.*', str(l))] if m]))\n",
    "list_liberal = list(set([x for x in list_not_ivy if x in tag_liberal]))\n",
    "\n",
    "list_not_ivy_liberal = [x for x in list_schooltype if x not in list_ivy + list_liberal]\n",
    "tag_public = list(set([m.group() for l in list_not_ivy_liberal for m in [re.search(r'.*ublic.*|.*tate.*|UC.*|uc.*|University of Florida|University of.*|SUNY|CUNY|UVA|UGA|UNC|UT.*|UCF|.*erkeley.*|.utgers.*|.exas.*|.emple.*|.*SU|.*ichigan.*|UW.*|.urdue.*|Indiana.*|Georgia.*|.ervice.*|.lemson.*', str(l))] if m]))\n",
    "list_public = list(set([x for x in list_not_ivy_liberal if x in tag_public]))\n",
    "\n",
    "list_not_ivy_liberal_public = [x for x in list_schooltype if x not in list_ivy + list_liberal + list_public]\n",
    "tag_private = list(set([m.group() for l in list_not_ivy_liberal_public for m in [re.search(r'.*rivate.*|NYU|BYU|Boston.*|GWU|New York University|.yracuse.*|.orthwestern.*|.uke.*|Stanford.*|Vanderbilt.*|Georgetown.*|Emory.*|.op .en|.op 10|.op .ive|.op 5|.op 20|.*otre.*|T20|American.*|.ordham.*|.ulane.*|.righam.*|NESCAC|Jesuit.*|Baylor.*|.*hoenix.*|Washington University.*', str(l))] if m]))\n",
    "list_private = list(set([x for x in list_not_ivy_liberal_public if x in tag_private]))\n",
    "\n",
    "list_other_schooltype = [x for x in list_schooltype if x not in list_ivy + list_liberal + list_public + list_private]"
   ]
  },
  {
   "cell_type": "code",
   "execution_count": 73,
   "metadata": {},
   "outputs": [],
   "source": [
    "# Create dict_schooltype and map it over df_law['schooltype']. This will consolidate our schooltype data into 4 categories.\n",
    "dict_ivy = {x:'ivy' for x in list_ivy}\n",
    "dict_public = {x:'public' for x in list_public}\n",
    "dict_private = {x:'private' for x in list_private}\n",
    "dict_other_schooltype = {x: 'other' for x in list_other_schooltype}\n",
    "\n",
    "dict_schooltype = {**dict_ivy, **dict_public, **dict_private, **dict_other_schooltype}\n",
    "df_law['schooltype'] = df_law['schooltype'].map(dict_schooltype)"
   ]
  },
  {
   "cell_type": "code",
   "execution_count": 74,
   "metadata": {},
   "outputs": [
    {
     "data": {
      "text/plain": [
       "array(['New York', 'California', 'Georgia', 'Illinois', nan, 'Colorado',\n",
       "       'Kentucky', 'Virginia', 'Tennessee', 'Missouri', 'Iowa', 'Other',\n",
       "       'Maryland', 'Ohio', 'Texas', 'Michigan', 'Florida', 'Montana',\n",
       "       'Connecticut', 'Indiana', 'Alaska', 'Maine', 'Arkansas', 'Utah',\n",
       "       'North Carolina', 'Louisiana', 'Washington - D.C.',\n",
       "       'Massachusetts', 'Washington', 'Wisconsin', 'Alabama',\n",
       "       'Pennsylvania', 'New Jersey', 'South Carolina', 'Kansas',\n",
       "       'Arizona', 'North Dakota', 'Rhode Island', 'Oregon',\n",
       "       'South Dakota', 'Oklahoma', 'Minnesota', 'Mississippi', 'Delaware',\n",
       "       'West Virginia', 'Vermont', 'Nevada', 'New Hampshire',\n",
       "       'New Mexico', 'Hawaii', 'Nebraska', 'Idaho', 'Wyoming',\n",
       "       'california', 'new york', 'ohio', 'north carolina', 'washington',\n",
       "       'virginia', 'missouri', 'new hampshire', 'colorado', 'other',\n",
       "       'connecticut', 'michigan', 'texas', 'utah', 'georgia', 'florida',\n",
       "       'washington - d.c.', 'massachusetts', 'kansas', 'indiana',\n",
       "       'pennsylvania', 'arizona', 'wisconsin', 'nebraska', 'new jersey',\n",
       "       'illinois', 'oregon', 'vermont', 'tennessee', 'maryland',\n",
       "       'alabama', 'kentucky', 'rhode island', 'montana', 'minnesota',\n",
       "       'nevada', 'iowa', 'mississippi', 'south carolina', 'louisiana',\n",
       "       'arkansas', 'oklahoma', 'delaware', 'south dakota', 'hawaii',\n",
       "       'maine', 'idaho', 'alaska', 'west virginia', 'new mexico',\n",
       "       'wyoming'], dtype=object)"
      ]
     },
     "execution_count": 74,
     "metadata": {},
     "output_type": "execute_result"
    }
   ],
   "source": [
    "# Rename 'state' to 'applicant_state' to specify it's where applicants are from.\n",
    "# Which states are applicants from?\n",
    "df_law = df_law.rename(columns={'state': 'applicant_state'})\n",
    "df_law['applicant_state'].unique()"
   ]
  },
  {
   "cell_type": "code",
   "execution_count": 75,
   "metadata": {},
   "outputs": [],
   "source": [
    "dict_applicant_state = {\n",
    "    'New York': 'ny',\n",
    "    'California': 'ca',\n",
    "    'Georgia': 'ga',\n",
    "    'Illinois': 'il',\n",
    "    'Colorado': 'co',\n",
    "    'Kentucky': 'ky',\n",
    "    'Virginia': 'va',\n",
    "    'Tennessee': 'tn',\n",
    "    'Missouri': 'mo',\n",
    "    'Iowa': 'ia',\n",
    "    'Other': 'other',\n",
    "    'Maryland': 'md',\n",
    "    'Ohio': 'oh',\n",
    "    'Texas': 'tx',\n",
    "    'Michigan': 'mi',\n",
    "    'Florida': 'fl',\n",
    "    'Montana': 'mt',\n",
    "    'Connecticut': 'ct',\n",
    "    'Indiana': 'in',\n",
    "    'Alaska': 'ak',\n",
    "    'Maine': 'me',\n",
    "    'Arkansas': 'ak',\n",
    "    'Utah': 'ut',\n",
    "    'North Carolina': 'nc',\n",
    "    'Louisiana': 'la',\n",
    "    'Washington - D.C.': 'dc',\n",
    "    'Massachusetts': 'ma',\n",
    "    'Washington': 'wa',\n",
    "    'Wisconsin': 'wi',\n",
    "    'Alabama': 'al',\n",
    "    'Pennsylvania': 'pa',\n",
    "    'New Jersey': 'nj',\n",
    "    'South Carolina': 'sc',\n",
    "    'Kansas': 'ks',\n",
    "    'Arizona': 'az',\n",
    "    'North Dakota': 'nd',\n",
    "    'Rhode Island': 'ri',\n",
    "    'Oregon': 'or',\n",
    "    'South Dakota': 'sd',\n",
    "    'Oklahoma': 'ok',\n",
    "    'Minnesota': 'mn',\n",
    "    'Mississippi': 'ms',\n",
    "    'Delaware': 'de',\n",
    "    'West Virginia': 'wv',\n",
    "    'Vermont': 'vt',\n",
    "    'Nevada': 'nv',\n",
    "    'New Hampshire': 'nh',\n",
    "    'New Mexico': 'nm',\n",
    "    'Hawaii': 'hi',\n",
    "    'Nebraska': 'ne',\n",
    "    'Idaho': 'id',\n",
    "    'Wyoming': 'wy',\n",
    "    'california': 'ca',\n",
    "    'new york': 'ny',\n",
    "    'ohio': 'oh',\n",
    "    'north carolina': 'nc',\n",
    "    'washington': 'wa',\n",
    "    'virginia': 'va',\n",
    "    'missouri': 'mo',\n",
    "    'new hampshire': 'nh',\n",
    "    'colorado': 'co',\n",
    "    'other': 'other',\n",
    "    'connecticut': 'ct',\n",
    "    'michigan': 'mi',\n",
    "    'texas': 'tx',\n",
    "    'utah': 'ut',\n",
    "    'georgia': 'ga',\n",
    "    'florida': 'fl',\n",
    "    'washington - d.c.': 'dc', \n",
    "    'massachusetts': 'ma',\n",
    "    'kansas': 'ks',\n",
    "    'indiana': 'in',\n",
    "    'pennsylvania': 'pa',\n",
    "    'arizona': 'az',\n",
    "    'wisconsin': 'wi',\n",
    "    'nebraska': 'ne',\n",
    "    'new jersey': 'nj',\n",
    "    'illinois': 'il',\n",
    "    'oregon': 'or',\n",
    "    'vermont': 'vt',\n",
    "    'tennessee': 'tn',\n",
    "    'maryland': 'md',\n",
    "    'alabama': 'al',\n",
    "    'kentucky': 'ky',\n",
    "    'rhode island': 'ri',\n",
    "    'montana': 'mt',\n",
    "    'minnesota': 'mn',\n",
    "    'nevada': 'nv',\n",
    "    'iowa': 'ia',\n",
    "    'mississippi': 'ms',\n",
    "    'south carolina': 'sc',\n",
    "    'louisiana': 'la',\n",
    "    'arkansas': 'ak',\n",
    "    'oklahoma': 'ok',\n",
    "    'delaware': 'de',\n",
    "    'south dakota': 'sd',\n",
    "    'hawaii': 'hi',\n",
    "    'maine': 'me',\n",
    "    'idaho': 'id',\n",
    "    'alaska': 'ak',\n",
    "    'west virginia': 'wv',\n",
    "    'new mexico': 'nm',\n",
    "    'wyoming': 'wy'\n",
    "}\n",
    "\n",
    "df_law['applicant_state'] = df_law['applicant_state'].map(dict_applicant_state)"
   ]
  },
  {
   "cell_type": "code",
   "execution_count": 76,
   "metadata": {},
   "outputs": [],
   "source": [
    "# Create school_state for the state where the college is located\n",
    "\n",
    "dict_school_state = {\n",
    "    'gulc': 'dc',\n",
    "    'uva': 'va',\n",
    "    'penn': 'pa',\n",
    "    'nyu': 'ny',\n",
    "    'chicago': 'il',\n",
    "    'harvard': 'ma',\n",
    "    'columbia': 'nu',\n",
    "    'ucla': 'ca',\n",
    "    'cornell': 'ny',\n",
    "    'northwestern': 'il',\n",
    "    'gw': 'dc',\n",
    "    'michigan': 'mi',\n",
    "    'berkeley': 'ca',\n",
    "    'usc': 'ca',\n",
    "    'lsu': 'la',\n",
    "    'mercer': 'ga',\n",
    "    'loyola-neworleans': 'la',\n",
    "    'memphis': 'tn',\n",
    "    'siu': 'il',\n",
    "    'gsu': 'ga',\n",
    "    'mississippi': 'ms',\n",
    "    'stanford': 'ca',\n",
    "    'yale': 'ct',\n",
    "    'davis': 'ca',\n",
    "    'hastings': 'ca',\n",
    "    'vanderbilt': 'tn',\n",
    "    'duke': 'nc',\n",
    "    'wm': 'va',\n",
    "    'texas': 'tx',\n",
    "    'wl': 'va',\n",
    "    'newyork': 'ny',\n",
    "    'buffalo': 'ny',\n",
    "    'westernnewengland': 'ma',\n",
    "    'touro': 'ny',\n",
    "    'pace': 'ny',\n",
    "    'cooley': 'mi',\n",
    "    'suffolk': 'ma',\n",
    "    'albany': 'ny',\n",
    "    'stjohns': 'ny',\n",
    "    'hofstra': 'ny',\n",
    "    'widener': 'de',\n",
    "    'newengland': 'ma',\n",
    "    'emory': 'ga',\n",
    "    'bc': 'ma',\n",
    "    'colorado': 'co',\n",
    "    'niu': 'il',\n",
    "    'stu': 'fl', \n",
    "    'floridacoastal': 'fl',\n",
    "    'stetson': 'fl',\n",
    "    'barry': 'fl',\n",
    "    'phoenix': 'az',\n",
    "    'johnmarshal-chicago': 'il',\n",
    "    'nku': 'ky',\n",
    "    'louisville': 'ky',\n",
    "    'whittier': 'ca',\n",
    "    'valparaiso': 'in',\n",
    "    'pepperdine': 'ca',\n",
    "    'southwestern': 'ca',\n",
    "    'brooklyn': 'ny',\n",
    "    'cardozo': 'ny',\n",
    "    'fordham': 'ny',\n",
    "    'gmu': 'va',\n",
    "    'setonhall': 'nj',\n",
    "    'rutgers': 'nj',\n",
    "    'tennessee': 'tn',\n",
    "    'uconn': 'ct',\n",
    "    'maryland': 'md',\n",
    "    'calwestern': 'ca',\n",
    "    'nccu': 'nc',\n",
    "    'udc': 'dc',\n",
    "    'sanfranciso': 'ca',\n",
    "    'missouri-kc': 'mo',\n",
    "    'howard': 'dc',\n",
    "    'nova': 'fl',\n",
    "    'kansas': 'ks',\n",
    "    'thomasjefferson': 'ca',\n",
    "    'westernstate': 'ca',\n",
    "    'sandiego': 'ca',\n",
    "    'unc': 'nc',\n",
    "    'baylor': 'tx',\n",
    "    'catholic': 'dc',\n",
    "    'american': 'dc',\n",
    "    'washu': 'mo',\n",
    "    'osu': 'oh',\n",
    "    'bu': 'ma',\n",
    "    'smu': 'tx',\n",
    "    'depaul': 'il',\n",
    "    'msu': 'mi',\n",
    "    'detroit-mercy': 'mi',\n",
    "    'wayne': 'mi',\n",
    "    'fiu': 'fl',\n",
    "    'indiana': 'in',\n",
    "    'quinnipiac': 'ct',\n",
    "    'marquette': 'wi',\n",
    "    'duquesne': 'pa',\n",
    "    'indiana-indy': 'in',\n",
    "    'lewisandclark': 'or',\n",
    "    'villanova': 'pa',\n",
    "    'wake': 'nc',\n",
    "    'northeastern': 'ma',\n",
    "    'oklahoma': 'ok',\n",
    "    'capital': 'oh',\n",
    "    'cincinnati': 'oh',\n",
    "    'casewestern': 'oh',\n",
    "    'kentucky': 'oh',\n",
    "    'utah': 'ut',\n",
    "    'nevada': 'nv',\n",
    "    'minnesota': 'mn',\n",
    "    'temple': 'pa',\n",
    "    'syracuse': 'ny',\n",
    "    'arizona': 'az',\n",
    "    'slu': 'mo',\n",
    "    'missouri': 'mo',\n",
    "    'illinois': 'il',\n",
    "    'notredame': 'in',\n",
    "    'georgia': 'ga',\n",
    "    'tulane': 'la',\n",
    "    'miami': 'fl',\n",
    "    'santaclara': 'ca',\n",
    "    'loyola': 'ca',\n",
    "    'florida': 'fl',\n",
    "    'fsu': 'fl',\n",
    "    'seattle': 'wa',\n",
    "    'houston': 'tx',\n",
    "    'pacific': 'ca',\n",
    "    'washington': 'wa',\n",
    "    'oregon': 'or',\n",
    "    'asu': 'az',\n",
    "    'wisconsin': 'wi',\n",
    "    'gonzaga': 'wa',\n",
    "    'newhampshire': 'nh',\n",
    "    'maine': 'me',\n",
    "    'rogerwilliams': 'ri', \n",
    "    'chicago-kent': 'il',\n",
    "    'arkansas': 'ak',\n",
    "    'byu': 'ut',\n",
    "    'wvu': 'wv',\n",
    "    'iowa': 'ia',\n",
    "    'loyala-chicago': 'il',\n",
    "    'pitt': 'pa',\n",
    "    'alabama': 'al',\n",
    "    'samford': 'al',\n",
    "    'richmond': 'va',\n",
    "    'chapman': 'ca',\n",
    "    'texastech': 'tx',\n",
    "    'vermont': 'vt',\n",
    "    'pennstate': 'pa',\n",
    "    'denver': 'co',\n",
    "    'southcarolina': 'sc',\n",
    "    'hawaii': 'hi',\n",
    "    'washburn': 'ks',\n",
    "    'drake': 'ia',\n",
    "    'creighton': 'ne',\n",
    "    'dayton': 'oh',\n",
    "    'baltimore': 'md',\n",
    "    'regent': 'va',\n",
    "    'goldengate': 'ca',\n",
    "    'nebraska': 'ne',\n",
    "    'avemaria': 'fl',\n",
    "    'willamette': 'or',\n",
    "    'tulsa': 'ok',\n",
    "    'newmexico': 'nm',\n",
    "    'mississippicollege': 'ms',\n",
    "    'texasam': 'tx',\n",
    "    'campbell': 'nc',\n",
    "    'hamline': 'mn',\n",
    "    'cuny-queens': 'ny',\n",
    "    'texassouthern': 'tx',\n",
    "    'southern': 'la',\n",
    "    'idaho': 'id',\n",
    "    'clevelandstate': 'oh',\n",
    "    'toledo': 'oh',\n",
    "    'akron': 'oh',\n",
    "    'ocu': 'ok',\n",
    "    'southtexas': 'tx',\n",
    "    'stmarys': 'tx',\n",
    "    'onu': 'oh',\n",
    "    'appalachian': 'va',\n",
    "    'wyoming': 'wy',\n",
    "    'stthomas': 'mn',\n",
    "    'montana': 'mt',\n",
    "    'williammitchell': 'mn',\n",
    "    'northdakota': 'nd',\n",
    "    'charleston': 'sc',\n",
    "    'johnmarshal-atl': 'ga',\n",
    "    'southdakota': 'sd',\n",
    "    'charlotte': 'nc',\n",
    "    'drexel': 'pa',\n",
    "    'famu': 'fl',\n",
    "    'jones': 'al',\n",
    "    'elon': 'nc',\n",
    "    'nashville': 'tn',\n",
    "    'laverne': 'ca',\n",
    "    'interamerican': 'pr',\n",
    "    'pontifical': 'pr',\n",
    "    'puertorico': 'pr',\n",
    "    'toronto': 'on',\n",
    "    'irvine': 'ca',\n",
    "    'dalhousie': 'ns',\n",
    "    'brittishcolumbia': 'bc',\n",
    "    'calgary': 'ab',\n",
    "    'ottawa': 'on',\n",
    "    'queens': 'on',\n",
    "    'york': 'on',\n",
    "    'saskatchewan': 'sk',\n",
    "    'liberty': 'va',\n",
    "    'alberta': 'ab',\n",
    "    'westernontario': 'on',\n",
    "    'windsor': 'on',\n",
    "    'mcgill': 'qc',\n",
    "    'manitoba': 'mb',\n",
    "    'victoria': 'bc',\n",
    "    'newbrunswick': 'nb',\n",
    "    'massachusetts': 'ma',\n",
    "    'belmont': 'tn'\n",
    "}\n",
    "\n",
    "df_law['school_state'] = df_law['school'].map(dict_school_state)"
   ]
  },
  {
   "cell_type": "code",
   "execution_count": 77,
   "metadata": {},
   "outputs": [
    {
     "data": {
      "text/plain": [
       "major\n",
       "Political Science                 34736\n",
       "History                           14505\n",
       "English                           11774\n",
       "Economics                         11556\n",
       "Philosophy                        8018 \n",
       "                                  ...  \n",
       "interior design/architecture      1    \n",
       "Econ &amp; Phil                   1    \n",
       "International Affairs / Arabic    1    \n",
       "Poli-Scie and Theatre             1    \n",
       "poltical science                  1    \n",
       "Name: major, Length: 7436, dtype: int64"
      ]
     },
     "execution_count": 77,
     "metadata": {},
     "output_type": "execute_result"
    }
   ],
   "source": [
    "# What majors are listed?\n",
    "df_law.groupby('major')['major'].count().sort_values(ascending=False)"
   ]
  },
  {
   "cell_type": "code",
   "execution_count": 78,
   "metadata": {},
   "outputs": [],
   "source": [
    "# Create a list with all the major options\n",
    "list_major = list(df_law['major'].unique())\n",
    "\n",
    "# Create a list for each major\n",
    "tag_polisci = list(set([m.group() for l in list_major for m in [re.search(r'.*olitical.*|.*Pol.*|.*pol.*|.*olitics.*', str(l))] if m]))\n",
    "list_polisci = list(set([x for x in list_major if x in tag_polisci]))\n",
    "\n",
    "tag_history = list(set([m.group() for l in list_major for m in [re.search(r'.*ist.*', str(l))] if m]))\n",
    "list_history = list(set([x for x in list_major if x in tag_history]))\n",
    "\n",
    "tag_english = list(set([m.group() for l in list_major for m in [re.search(r'.*nglish.*|.it.*|.* .it|.riting|.*ompar.*', str(l))] if m]))\n",
    "list_english = list(set([x for x in list_major if x in tag_english]))\n",
    "\n",
    "tag_econ = list(set([m.group() for l in list_major for m in [re.search(r'.*econ.*|.*Econ.*', str(l))] if m]))\n",
    "list_econ = list(set([x for x in list_major if x in tag_econ]))\n",
    "\n",
    "tag_phil = list(set([m.group() for l in list_major for m in [re.search(r'.*phil.*|.*Phil.*', str(l))] if m]))\n",
    "list_phil = list(set([x for x in list_major if x in tag_phil]))\n",
    "\n",
    "tag_psych = list(set([m.group() for l in list_major for m in [re.search(r'.*syc.*', str(l))] if m]))\n",
    "list_psych = list(set([x for x in list_major if x in tag_psych]))\n",
    "\n",
    "tag_biz = list(set([m.group() for l in list_major for m in [re.search(r'.*inanc.*|.ccounting|acct|.ax.*|.*usiness.*|.*dmin.*|.*dvert.*|.*arketing.*|mktg|.*anagement.*|.*rgan.*|.*mgmt.*|.*iz.*', str(l))] if m]))\n",
    "list_biz = list(set([x for x in list_major if x in tag_biz]))\n",
    "\n",
    "tag_cj = list(set([m.group() for l in list_major for m in [re.search(r'.*cj.*|.*CJ.*|.*rim.*|.RIM.*|.*ustic.*', str(l))] if m]))\n",
    "list_cj = list(set([x for x in list_major if x in tag_cj]))\n",
    "\n",
    "tag_govt = list(set([m.group() for l in list_major for m in [re.search(r'.ov.*|.*olicy.*|.*ublic.*|.*gov.*|.*Gov.*|.*iploma.*|.*lobal.*|.ntl.*|.nternational.*|.oreign.*|IR|ir', str(l))] if m]))\n",
    "list_govt = list(set([x for x in list_major if x in tag_govt]))\n",
    "\n",
    "tag_humanities = list(set([m.group() for l in list_major for m in [re.search(r'.*ociol.*|.*uman.*|.*iberal.*|.ocial.*|.*usic.*|.*nthro.*|.* .elation.*|.*tudies|.*lassi.*|.*panish.*|.*rchitec.*|.*elig.*|.*iddle.*|.rabic.*|.*heat.*|.*art.*|.*Art.*|.*rama.*|.*rench.*|.*erman.*|.*ussian.*|.port.*|.*edu.*|.*Edu.*|.*heology.*|.*ilm.*|.*urop.*|.*hinese.*|.*sian.*|.*atin.*|.*east.*|.*East.*|.*apan.*|.*omen.*|.*ender.*|.*frica.*|.*inguist.*|.omm.*|.*omm|.*ommun.*|.*adio.*|.*tv.*|.*elevision.*|.*hetoric.*|.roadc.*|.*elecom.*|.*ournal.*|PR|pr|.*edia.*', str(l))] if m]))\n",
    "list_humanities = list(set([x for x in list_major if x in tag_humanities]))\n",
    "\n",
    "tag_law = list(set([m.group() for l in list_major for m in [re.search(r'.*aw.*|.*egal.*|.re .aw|.re-?.aw', str(l))] if m]))\n",
    "list_law = list(set([x for x in list_major if x in tag_law]))\n",
    "\n",
    "tag_stem = list(set([m.group() for l in list_major for m in [re.search(r'.*ng.*|.omputer.*|EE.*|ee.*|CS.*|cs.*|.lectical.*|.*ompu.*|.omp .ci.*|.io.*|.*bio.*|.*Bio.*|STEM|.tem.*|.*hem.*|.*hysic.*|.*cience.*|.*euro.*|.*ath.*|.*harm.*|.*enetic.*|.*cology*|.*oology.*|.*tatistic.*|.tats|.*nfo.*|.*uant.*|.*inesiology.*|.*pplied.*|.*otany.*|.*eology.*|.*nviron.*|.*med.*|.*Med.*|.*olecu.*|.*gri.*|.*orest.*|.*graphy.*|.*tech.*|.*Tech.*|.*aero.*|.*Aero.*|.*ealth.*|.*ogni.*|.*nerg.*|.*atur.*|.*arine.*', str(l))] if m]))\n",
    "list_stem = list(set([x for x in list_major if x in tag_stem]))\n",
    "\n",
    "list_top_majors = [list_polisci, list_history, list_english, list_econ, list_phil, list_psych, list_biz, list_cj, list_govt, list_humanities, list_law, list_stem]\n",
    "\n",
    "list_other = [x for x in list_major if x not in [i for sublist in list_top_majors for i in sublist]]"
   ]
  },
  {
   "cell_type": "code",
   "execution_count": 79,
   "metadata": {},
   "outputs": [],
   "source": [
    "# Create dict_major and map it over df_law['major']. This will consolidate our major data.\n",
    "\n",
    "dict_polisci = {x:'political science' for x in list_polisci}\n",
    "dict_history = {x:'history' for x in list_history}\n",
    "dict_english = {x:'english' for x in list_english}\n",
    "dict_econ = {x:'economics' for x in list_econ}\n",
    "dict_phil = {x:'philosophy' for x in list_phil}\n",
    "dict_psych = {x:'psychology' for x in list_psych}\n",
    "dict_biz = {x:'business' for x in list_biz}\n",
    "dict_cj = {x:'criminal justice' for x in list_cj}\n",
    "dict_govt = {x:'government' for x in list_govt}\n",
    "dict_humanities = {x:'humanities' for x in list_humanities}\n",
    "dict_law = {x:'law' for x in list_law}\n",
    "dict_stem = {x:'stem' for x in list_stem}\n",
    "dict_other = {x:'other' for x in list_other}\n",
    "\n",
    "list_dict_major = [dict_polisci, dict_history, dict_english, dict_econ, dict_phil, dict_psych, dict_biz, dict_cj, dict_govt, dict_humanities, dict_law, dict_stem, dict_other]\n",
    "dict_major = dict(ChainMap(*list_dict_major))\n",
    "df_law['major'] = df_law['major'].map(dict_major)"
   ]
  },
  {
   "cell_type": "code",
   "execution_count": 80,
   "metadata": {},
   "outputs": [
    {
     "data": {
      "text/plain": [
       "major\n",
       "other                144997\n",
       "political science    87374 \n",
       "humanities           39569 \n",
       "stem                 31439 \n",
       "history              31148 \n",
       "business             29445 \n",
       "economics            22828 \n",
       "english              19592 \n",
       "psychology           12995 \n",
       "government           12966 \n",
       "philosophy           12672 \n",
       "criminal justice     8416  \n",
       "law                  1910  \n",
       "Name: major, dtype: int64"
      ]
     },
     "execution_count": 80,
     "metadata": {},
     "output_type": "execute_result"
    }
   ],
   "source": [
    "df_law.groupby('major')['major'].count().sort_values(ascending=False)"
   ]
  },
  {
   "cell_type": "code",
   "execution_count": 81,
   "metadata": {},
   "outputs": [
    {
     "data": {
      "text/plain": [
       "array(['Ac', 'Re', 'Pe', 'Wa', 'AcWa', 'ReWa'], dtype=object)"
      ]
     },
     "execution_count": 81,
     "metadata": {},
     "output_type": "execute_result"
    }
   ],
   "source": [
    "# What is listed under 'status'?\n",
    "df_law['status'].unique()"
   ]
  },
  {
   "cell_type": "code",
   "execution_count": 82,
   "metadata": {},
   "outputs": [],
   "source": [
    "# For the sake of this analysis, status will be 1 if 'accepted', 0 if 'rejected', 'waitlisted', or 'pending'.\n",
    "\n",
    "dict_status = {\n",
    "    'Ac': 1,\n",
    "    'Re': 0,\n",
    "    'Pe': 0, # this means pending (the school didn't respond or the applicant didn't update with their admissions results)\n",
    "    'Wa': 0,\n",
    "    'AcWa': 1, # this means waitlisted and then accepted from the waitlist\n",
    "    'ReWa': 0 # this means waitlisted and then rejected from the waitlist\n",
    "}\n",
    "\n",
    "df_law['status'] = df_law['status'].map(dict_status)"
   ]
  },
  {
   "cell_type": "code",
   "execution_count": null,
   "metadata": {},
   "outputs": [],
   "source": [
    "# Parse the 'sent' and 'decision' dates, but almost half the values are missing so they may be ignored in the analysis\n",
    "df_law['sent'] = df_law['sent'].apply(lambda x: None if x == '--' else pd.to_datetime(x, format = '%m/%d/%y'))\n",
    "df_law['decision'] = df_law['decision'].apply(lambda x: None if x == '--' else pd.to_datetime(x, format = '%m/%d/%y'))"
   ]
  },
  {
   "cell_type": "code",
   "execution_count": null,
   "metadata": {},
   "outputs": [],
   "source": [
    "# Drop unnecessary columns & rename some columns\n",
    "df_law = df_law.drop(['complete_ts', 'decision_ts', 'aa', 'urm', 'lsat1', 'lsat2', 'lsat3', 'cycle'], axis=1)\n",
    "df_law = df_law.rename(columns={'status': 'accepted', 'sentmonth': 'sent_month', 'decisionmonth': 'decision_month', 'app_id': 'applicant_id', 'money': 'scholarship', 'ed':'early_decision', 'nontrad': 'nontraditional', 'feewaiver': 'fee_waiver', 'yearsout': 'years_out', 'schooltype': 'school_type'})"
   ]
  },
  {
   "cell_type": "code",
   "execution_count": null,
   "metadata": {},
   "outputs": [],
   "source": [
    "df_law.head()"
   ]
  },
  {
   "cell_type": "code",
   "execution_count": null,
   "metadata": {},
   "outputs": [],
   "source": [
    "df_law = df_law.drop(['application_id','applicant_id','sent','decision','url','scholarship','attending',\n",
    "                     'years_out'],axis=1)"
   ]
  },
  {
   "cell_type": "markdown",
   "metadata": {},
   "source": [
    "### Save df_law to csv"
   ]
  },
  {
   "cell_type": "code",
   "execution_count": null,
   "metadata": {},
   "outputs": [],
   "source": [
    "df_law.to_csv(r'lawschool_clean.csv')"
   ]
  },
  {
   "cell_type": "code",
   "execution_count": 60,
   "metadata": {},
   "outputs": [
    {
     "data": {
      "text/plain": [
       "(array([144997.,  87374.,  19592.,  39569.,  12995.,  31439.,   8416.,\n",
       "         31148.,  22828.,  29445.,  12966.,  12672.,   1910.]),\n",
       " array([ 0.,  1.,  2.,  3.,  4.,  5.,  6.,  7.,  8.,  9., 10., 11., 12.,\n",
       "        13.]),\n",
       " <a list of 13 Patch objects>)"
      ]
     },
     "execution_count": 60,
     "metadata": {},
     "output_type": "execute_result"
    },
    {
     "data": {
      "image/png": "[encoded data removed]",
      "text/plain": [
       "<Figure size 1440x720 with 1 Axes>"
      ]
     },
     "metadata": {
      "needs_background": "light"
     },
     "output_type": "display_data"
    }
   ],
   "source": [
    "import matplotlib.pyplot as plt\n",
    "plt.figure(figsize=(20, 10))\n",
    "plt.hist(df_law['major'],bins = list(Counter(df_law['major']).keys()) + [''])\n"
   ]
  },
  {
   "cell_type": "code",
   "execution_count": 58,
   "metadata": {},
   "outputs": [
    {
     "data": {
      "text/plain": [
       "Counter({'other': 144997,\n",
       "         'political science': 87374,\n",
       "         'english': 19592,\n",
       "         'humanities': 39569,\n",
       "         'psychology': 12995,\n",
       "         'stem': 31439,\n",
       "         'criminal justice': 8416,\n",
       "         'history': 31148,\n",
       "         'economics': 22828,\n",
       "         'business': 29445,\n",
       "         'government': 12966,\n",
       "         'philosophy': 12672,\n",
       "         'law': 1910})"
      ]
     },
     "execution_count": 58,
     "metadata": {},
     "output_type": "execute_result"
    }
   ],
   "source": [
    "from collections import Counter\n",
    "Counter(df_law['major'])"
   ]
  },
  {
   "cell_type": "code",
   "execution_count": null,
   "metadata": {},
   "outputs": [],
   "source": []
  }
 ],
 "metadata": {
  "kernelspec": {
   "display_name": "Python 3",
   "language": "python",
   "name": "python3"
  },
  "language_info": {
   "codemirror_mode": {
    "name": "ipython",
    "version": 3
   },
   "file_extension": ".py",
   "mimetype": "text/x-python",
   "name": "python",
   "nbconvert_exporter": "python",
   "pygments_lexer": "ipython3",
   "version": "3.7.4"
  }
 },
 "nbformat": 4,
 "nbformat_minor": 2
}
